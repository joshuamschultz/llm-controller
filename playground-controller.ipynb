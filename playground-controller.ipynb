{
 "cells": [
  {
   "cell_type": "markdown",
   "id": "870b2361",
   "metadata": {},
   "source": [
    "# LLMController Playground\n",
    "\n",
    "This notebook demonstrates how to use the LLMController class with Claude and test various LangChain features.\n",
    "\n",
    "## 1. Setup and Installation\n",
    "\n",
    "Install required packages \n",
    "!pip install langchain anthropic openai python-dotenv langchain-community"
   ]
  },
  {
   "cell_type": "code",
   "execution_count": 1,
   "id": "bce66970",
   "metadata": {},
   "outputs": [],
   "source": [
    "# Import required libraries\n",
    "import os\n",
    "from dotenv import load_dotenv\n",
    "from typing import Dict, Any, Optional, Union, List"
   ]
  },
  {
   "cell_type": "code",
   "execution_count": 2,
   "id": "0d28b6d6",
   "metadata": {},
   "outputs": [
    {
     "name": "stdout",
     "output_type": "stream",
     "text": [
      "Environment loaded successfully!\n",
      "Anthropic API Key loaded: Yes\n",
      "OpenAI API Key loaded: Yes\n"
     ]
    }
   ],
   "source": [
    "# Load environment variables\n",
    "load_dotenv()\n",
    "\n",
    "print(\"Environment loaded successfully!\")\n",
    "print(f\"Anthropic API Key loaded: {'Yes' if os.getenv('ANTHROPIC_API_KEY') else 'No'}\")\n",
    "print(f\"OpenAI API Key loaded: {'Yes' if os.getenv('OPENAI_API_KEY') else 'No'}\")"
   ]
  },
  {
   "cell_type": "code",
   "execution_count": 3,
   "id": "e47432a2",
   "metadata": {},
   "outputs": [
    {
     "name": "stdout",
     "output_type": "stream",
     "text": [
      "LangChain version: 0.3.17\n"
     ]
    }
   ],
   "source": [
    "# Check LangChain version\n",
    "try:\n",
    "    import langchain\n",
    "    print(f\"LangChain version: {langchain.__version__}\")\n",
    "except:\n",
    "    print(\"LangChain version not available\")"
   ]
  },
  {
   "cell_type": "markdown",
   "id": "ae5cf343",
   "metadata": {},
   "source": [
    "## 2. Import LLMController Class\n",
    "\n",
    "*Note: Make sure you have the LLMController class from the previous artifact saved as `llm_controller.py`*\n"
   ]
  },
  {
   "cell_type": "code",
   "execution_count": 4,
   "id": "a3575f6c",
   "metadata": {},
   "outputs": [
    {
     "ename": "ModuleNotFoundError",
     "evalue": "No module named 'langchain_anthropic'",
     "output_type": "error",
     "traceback": [
      "\u001b[31m---------------------------------------------------------------------------\u001b[39m",
      "\u001b[31mModuleNotFoundError\u001b[39m                       Traceback (most recent call last)",
      "\u001b[36mCell\u001b[39m\u001b[36m \u001b[39m\u001b[32mIn[4]\u001b[39m\u001b[32m, line 1\u001b[39m\n\u001b[32m----> \u001b[39m\u001b[32m1\u001b[39m \u001b[38;5;28;01mfrom\u001b[39;00m\u001b[38;5;250m \u001b[39m\u001b[34;01mllm_controller\u001b[39;00m\u001b[38;5;250m \u001b[39m\u001b[38;5;28;01mimport\u001b[39;00m LLMController\n",
      "\u001b[36mFile \u001b[39m\u001b[32m~/AI/ai-platform/llm_controller.py:5\u001b[39m\n\u001b[32m      3\u001b[39m \u001b[38;5;28;01mfrom\u001b[39;00m\u001b[38;5;250m \u001b[39m\u001b[34;01mlangchain_community\u001b[39;00m\u001b[34;01m.\u001b[39;00m\u001b[34;01mllms\u001b[39;00m\u001b[38;5;250m \u001b[39m\u001b[38;5;28;01mimport\u001b[39;00m Ollama\n\u001b[32m      4\u001b[39m \u001b[38;5;28;01mfrom\u001b[39;00m\u001b[38;5;250m \u001b[39m\u001b[34;01mlangchain_openai\u001b[39;00m\u001b[38;5;250m \u001b[39m\u001b[38;5;28;01mimport\u001b[39;00m ChatOpenAI\n\u001b[32m----> \u001b[39m\u001b[32m5\u001b[39m \u001b[38;5;28;01mfrom\u001b[39;00m\u001b[38;5;250m \u001b[39m\u001b[34;01mlangchain_anthropic\u001b[39;00m\u001b[38;5;250m \u001b[39m\u001b[38;5;28;01mimport\u001b[39;00m ChatAnthropic\n\u001b[32m      6\u001b[39m \u001b[38;5;28;01mfrom\u001b[39;00m\u001b[38;5;250m \u001b[39m\u001b[34;01mlangchain_core\u001b[39;00m\u001b[34;01m.\u001b[39;00m\u001b[34;01mlanguage_models\u001b[39;00m\u001b[34;01m.\u001b[39;00m\u001b[34;01mbase\u001b[39;00m\u001b[38;5;250m \u001b[39m\u001b[38;5;28;01mimport\u001b[39;00m BaseLanguageModel\n\u001b[32m      7\u001b[39m \u001b[38;5;28;01mfrom\u001b[39;00m\u001b[38;5;250m \u001b[39m\u001b[34;01mlangchain_core\u001b[39;00m\u001b[34;01m.\u001b[39;00m\u001b[34;01mmessages\u001b[39;00m\u001b[38;5;250m \u001b[39m\u001b[38;5;28;01mimport\u001b[39;00m BaseMessage, AIMessage, HumanMessage\n",
      "\u001b[31mModuleNotFoundError\u001b[39m: No module named 'langchain_anthropic'"
     ]
    }
   ],
   "source": [
    "from llm_controller import LLMController"
   ]
  },
  {
   "cell_type": "code",
   "execution_count": null,
   "id": "4849886d",
   "metadata": {},
   "outputs": [],
   "source": []
  }
 ],
 "metadata": {
  "kernelspec": {
   "display_name": "langchain",
   "language": "python",
   "name": "python3"
  },
  "language_info": {
   "codemirror_mode": {
    "name": "ipython",
    "version": 3
   },
   "file_extension": ".py",
   "mimetype": "text/x-python",
   "name": "python",
   "nbconvert_exporter": "python",
   "pygments_lexer": "ipython3",
   "version": "3.13.3"
  }
 },
 "nbformat": 4,
 "nbformat_minor": 5
}
